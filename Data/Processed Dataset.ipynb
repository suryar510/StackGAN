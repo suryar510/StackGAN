{
 "cells": [
  {
   "cell_type": "markdown",
   "metadata": {},
   "source": [
    "## This is the process I used on my computer"
   ]
  },
  {
   "cell_type": "code",
   "execution_count": 1,
   "metadata": {},
   "outputs": [
    {
     "name": "stderr",
     "output_type": "stream",
     "text": [
      "Using TensorFlow backend.\n"
     ]
    }
   ],
   "source": [
    "import os\n",
    "import random\n",
    "import time\n",
    "import PIL\n",
    "import tensorflow.compat.v2 as tf\n",
    "import tensorflow_datasets as tfds\n",
    "from keras.preprocessing.image import ImageDataGenerator, img_to_array, load_img\n",
    "import pandas as pd\n",
    "import matplotlib.pyplot as plt\n",
    "import matplotlib.image as mpimg\n",
    "import numpy as np\n",
    "from tqdm import tqdm"
   ]
  },
  {
   "cell_type": "code",
   "execution_count": 2,
   "metadata": {},
   "outputs": [],
   "source": [
    "#**NABIRDS dataset: choice 2**\n",
    "path = '/Users/alexnails/Desktop/StackGAN/nabirds/'\n",
    "df = pd.read_csv(path+'image.txt', \n",
    "                        sep = ' ',header = None, \n",
    "                        names = ['img_num','img'])"
   ]
  },
  {
   "cell_type": "code",
   "execution_count": 3,
   "metadata": {},
   "outputs": [],
   "source": [
    "#<image_id> <x> <y> <width> <height>\n",
    "boxes = pd.read_csv(path+'bounding_boxes.txt', \n",
    "                        sep = ' ',header = None, \n",
    "                        names = ['img_num','x','y','width', 'height'])"
   ]
  },
  {
   "cell_type": "code",
   "execution_count": 15,
   "metadata": {},
   "outputs": [
    {
     "name": "stderr",
     "output_type": "stream",
     "text": [
      "100%|██████████| 48562/48562 [13:26<00:00, 60.20it/s]\n"
     ]
    }
   ],
   "source": [
    "from PIL import Image\n",
    "import numpy as np\n",
    "\n",
    "IMG_SIZE = 256\n",
    "imga = np.ndarray(shape = (len(df), IMG_SIZE, IMG_SIZE,3), dtype = np.float64)\n",
    "ite=0\n",
    "\n",
    "for i in tqdm(df['img']):\n",
    "    box = {\n",
    "      \"boundbox\": [\n",
    "      {\n",
    "        \"class\": \"rect\",\n",
    "        \"height\": boxes['height'][ite],\n",
    "        \"width\": boxes['width'][ite],\n",
    "        \"x\": boxes['x'][ite],\n",
    "        \"y\": boxes['y'][ite]\n",
    "      },\n",
    "     ],\n",
    "       \"class\": \"image\",\n",
    "       \"filename\": path+'images/'+i\n",
    "    }  \n",
    "    #cropping\n",
    "    image = plt.imread(box[\"filename\"])\n",
    "    x0 = box[\"boundbox\"][0][\"x\"]\n",
    "    y0 = box[\"boundbox\"][0][\"y\"]\n",
    "    width = box[\"boundbox\"][0][\"width\"]\n",
    "    height = box[\"boundbox\"][0][\"height\"]\n",
    "    im = image[y0:y0+height , x0:x0+width, :]\n",
    "    #saving and resizing for input\n",
    "    im = Image.fromarray(im)\n",
    "    newsize = (IMG_SIZE, IMG_SIZE) \n",
    "    im1 = im.resize(newsize)\n",
    "    imga[ite] = img_to_array(im1)[:,:,:3]\n",
    "    ite += 1\n",
    "    \n",
    "  \n"
   ]
  },
  {
   "cell_type": "code",
   "execution_count": 23,
   "metadata": {},
   "outputs": [
    {
     "ename": "OverflowError",
     "evalue": "cannot serialize a bytes object larger than 4 GiB",
     "output_type": "error",
     "traceback": [
      "\u001b[0;31m---------------------------------------------------------------------------\u001b[0m",
      "\u001b[0;31mOverflowError\u001b[0m                             Traceback (most recent call last)",
      "\u001b[0;32m<ipython-input-23-e8bbc7e3cb9b>\u001b[0m in \u001b[0;36m<module>\u001b[0;34m\u001b[0m\n\u001b[1;32m      1\u001b[0m \u001b[0;31m# save to csv file\u001b[0m\u001b[0;34m\u001b[0m\u001b[0;34m\u001b[0m\u001b[0;34m\u001b[0m\u001b[0m\n\u001b[1;32m      2\u001b[0m \u001b[0;32mimport\u001b[0m \u001b[0mpickle\u001b[0m\u001b[0;34m\u001b[0m\u001b[0;34m\u001b[0m\u001b[0m\n\u001b[0;32m----> 3\u001b[0;31m \u001b[0mpickle\u001b[0m\u001b[0;34m.\u001b[0m\u001b[0mdump\u001b[0m\u001b[0;34m(\u001b[0m\u001b[0mimga\u001b[0m\u001b[0;34m,\u001b[0m \u001b[0mopen\u001b[0m\u001b[0;34m(\u001b[0m\u001b[0mpath\u001b[0m\u001b[0;34m+\u001b[0m\u001b[0;34m\"data.pkl\"\u001b[0m\u001b[0;34m,\u001b[0m \u001b[0;34m\"w\"\u001b[0m\u001b[0;34m)\u001b[0m\u001b[0;34m)\u001b[0m\u001b[0;34m\u001b[0m\u001b[0;34m\u001b[0m\u001b[0m\n\u001b[0m",
      "\u001b[0;31mOverflowError\u001b[0m: cannot serialize a bytes object larger than 4 GiB"
     ]
    }
   ],
   "source": [
    "# save to csv file\n",
    "np.save(path+ 'data.npy', imga, delimiter=',')"
   ]
  },
  {
   "cell_type": "code",
   "execution_count": null,
   "metadata": {},
   "outputs": [],
   "source": [
    "# create a ZipFile\n",
    "zipObj = ZipFile(path + 'data.zip', 'w')\n",
    "zipObj.write('data.npy')\n",
    "zipObj.close()"
   ]
  },
  {
   "cell_type": "code",
   "execution_count": null,
   "metadata": {},
   "outputs": [],
   "source": [
    "# load numpy array from npy file\n",
    "data = np.load(path+'data.npy')"
   ]
  },
  {
   "cell_type": "code",
   "execution_count": null,
   "metadata": {},
   "outputs": [],
   "source": []
  },
  {
   "cell_type": "code",
   "execution_count": null,
   "metadata": {},
   "outputs": [],
   "source": []
  }
 ],
 "metadata": {
  "kernelspec": {
   "display_name": "nmep",
   "language": "python",
   "name": "nmep"
  },
  "language_info": {
   "codemirror_mode": {
    "name": "ipython",
    "version": 3
   },
   "file_extension": ".py",
   "mimetype": "text/x-python",
   "name": "python",
   "nbconvert_exporter": "python",
   "pygments_lexer": "ipython3",
   "version": "3.6.10"
  }
 },
 "nbformat": 4,
 "nbformat_minor": 2
}
